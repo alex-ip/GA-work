{
 "cells": [
  {
   "cell_type": "code",
   "execution_count": 1,
   "metadata": {},
   "outputs": [],
   "source": [
    "import numpy as np\n",
    "from jami import nc, input_to_grid\n",
    "from pyproj import Proj\n",
    "from jami.ndlinear.cinterpolate import ndlinear"
   ]
  },
  {
   "cell_type": "code",
   "execution_count": 2,
   "metadata": {},
   "outputs": [],
   "source": [
    "# The input data contains the whole Australia and more\n",
    "# and are in angular coordinate, i,e, Australian Albers\n",
    "input_file = '../input_files/Plocsol_2x2_it3.xyz'\n",
    "source_proj = Proj(init='epsg:3577')\n",
    "grid_proj = Proj(init='epsg:4326')"
   ]
  },
  {
   "cell_type": "code",
   "execution_count": 3,
   "metadata": {},
   "outputs": [],
   "source": [
    "# No false_easting and northing are required because the\n",
    "# data are not in cartesian coordinates\n",
    "source_points, source_values = input_to_grid.read_winglink_xyzv(input_file,false_northing=0.0, false_easting=0.0)"
   ]
  },
  {
   "cell_type": "code",
   "execution_count": 4,
   "metadata": {},
   "outputs": [],
   "source": [
    "# grid spec will depend on the input data file\n",
    "grid_spec = nc.grid_from_extent_and_resolution(left=(100.,-0.5,5),right=(190., \n",
    "-55.0, 1500), resolution=(1, -1, 50))\n"
   ]
  },
  {
   "cell_type": "code",
   "execution_count": 5,
   "metadata": {},
   "outputs": [
    {
     "name": "stdout",
     "output_type": "stream",
     "text": [
      "(90,) (54,) (30,)\n"
     ]
    }
   ],
   "source": [
    "grid_x, grid_y, grid_z, grid_points = grid_spec\n",
    "print(grid_x.shape, grid_y.shape, grid_z.shape)\n"
   ]
  },
  {
   "cell_type": "code",
   "execution_count": 6,
   "metadata": {},
   "outputs": [],
   "source": [
    "# We need to flatten the array for interpolation\n",
    "flatten_transform_points = nc.transform_3d(grid_proj, source_proj, \n",
    "                            nc.flatten_grid(grid_points))\n"
   ]
  },
  {
   "cell_type": "code",
   "execution_count": 7,
   "metadata": {},
   "outputs": [],
   "source": [
    "# change the proj of the input data into target proj\n",
    "source_points_in_grid_proj = nc.transform_3d(grid_proj, source_proj, source_points)\n"
   ]
  },
  {
   "cell_type": "code",
   "execution_count": null,
   "metadata": {},
   "outputs": [
    {
     "name": "stdout",
     "output_type": "stream",
     "text": [
      "kdtree: 0.332s\n"
     ]
    }
   ],
   "source": [
    "result = ndlinear(source_points_in_grid_proj, source_values,\n",
    "                 flatten_transform_points)\n",
    "result = result.reshape(grid_points.shape[:3])\n"
   ]
  },
  {
   "cell_type": "code",
   "execution_count": 17,
   "metadata": {},
   "outputs": [],
   "source": [
    "output_file = '../netCDF_files/seismic.nc'"
   ]
  },
  {
   "cell_type": "code",
   "execution_count": 18,
   "metadata": {},
   "outputs": [],
   "source": [
    "nc.write_resistivity_grid(output_file, grid_proj, grid_y, grid_x, grid_z, \n",
    "                          result.transpose([2, 0, 1]), z_label='depth')\n"
   ]
  },
  {
   "cell_type": "code",
   "execution_count": null,
   "metadata": {},
   "outputs": [],
   "source": []
  }
 ],
 "metadata": {
  "kernelspec": {
   "display_name": "Python 3",
   "language": "python",
   "name": "python3"
  },
  "language_info": {
   "codemirror_mode": {
    "name": "ipython",
    "version": 3
   },
   "file_extension": ".py",
   "mimetype": "text/x-python",
   "name": "python",
   "nbconvert_exporter": "python",
   "pygments_lexer": "ipython3",
   "version": "3.6.7"
  }
 },
 "nbformat": 4,
 "nbformat_minor": 2
}
