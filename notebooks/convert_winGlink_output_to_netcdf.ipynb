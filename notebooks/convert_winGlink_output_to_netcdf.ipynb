{
 "cells": [
  {
   "cell_type": "code",
   "execution_count": 1,
   "metadata": {},
   "outputs": [],
   "source": [
    "import numpy as np\n",
    "from jami import nc, input_to_grid\n",
    "from pyproj import Proj\n",
    "from sklearn.neighbors.ball_tree import BinaryTree"
   ]
  },
  {
   "cell_type": "code",
   "execution_count": 2,
   "metadata": {},
   "outputs": [],
   "source": [
    "# the input data \"winGlink_3dmod_input.xyzv\" had no information about the crs.\n",
    "# so, we had to hard code it.\n",
    "# epsg 32753 represents the data area are in WGS84/ UTM 53S\n",
    "\n",
    "source_proj = Proj(init='epsg:32753')\n",
    "grid_proj = Proj(init='epsg:4326')\n",
    "\n",
    "# make a grid that covers the whole area of all the points\n",
    "# with desired resolution. The grid epsg we want is 4326 which is global and in lat/lon.\n",
    "grid_spec = nc.grid_from_extent_and_resolution(left=(131.5, -31., -4500.),\n",
    "                                               right=(132.5, -30., -125.),\n",
    "                                               resolution=(0.005, 0.005, 100.))"
   ]
  },
  {
   "cell_type": "code",
   "execution_count": 3,
   "metadata": {},
   "outputs": [],
   "source": [
    "\n",
    "WING_LINK_DATA_FILE = '../input_files/winGlink_3dmod_input.xyzv'\n",
    "\n",
    "# input data hes been fixed for false origin\n",
    "source_points, source_values = input_to_grid.read_winglink_xyzv(WING_LINK_DATA_FILE,\n",
    "                                                                     false_easting=500000.0,\n",
    "                                                                     false_northing=10000000.0)"
   ]
  },
  {
   "cell_type": "code",
   "execution_count": 4,
   "metadata": {},
   "outputs": [],
   "source": [
    "output_file = '../netCDF_files/winGlink.nc'\n",
    "\n",
    "input_to_grid.mask_interpolate_and_write(output_file,\n",
    "                                              source_points, source_values, source_proj,\n",
    "                                              grid_spec, grid_proj)"
   ]
  },
  {
   "cell_type": "code",
   "execution_count": 4,
   "metadata": {},
   "outputs": [],
   "source": [
    "grid_x, grid_y, grid_z, grid_points = grid_spec\n",
    "# flatten grid because IDW takes a flattened array as input\n",
    "utm_points = nc.transform_3d(grid_proj, source_proj, nc.flatten_grid(grid_points))"
   ]
  },
  {
   "cell_type": "code",
   "execution_count": 5,
   "metadata": {},
   "outputs": [],
   "source": [
    "# mask source for grid\n",
    "# this is needed because the high resistivity of the air layers contaminate\n",
    "# the IDW interpolated data underground\n",
    "source_points_in_grid_proj = nc.transform_3d(source_proj, grid_proj, source_points)\n",
    "mask = nc.clipping_mask(source_points_in_grid_proj, grid_points)\n",
    "source_points = source_points[mask]\n",
    "source_values = source_values[mask]\n"
   ]
  },
  {
   "cell_type": "code",
   "execution_count": 8,
   "metadata": {},
   "outputs": [],
   "source": [
    "tree = BinaryTree(source_points, leaf_size=2)"
   ]
  },
  {
   "cell_type": "code",
   "execution_count": 9,
   "metadata": {},
   "outputs": [],
   "source": [
    "tree.query_radius(query_radius)"
   ]
  },
  {
   "cell_type": "code",
   "execution_count": 6,
   "metadata": {},
   "outputs": [],
   "source": [
    "# interpolate data at grid points and reshape back to the grid\n",
    "#resistivity = nc.IDW_NN(source_points, source_values, utm_points)\n",
    "resistivity = nc.IDW_radius(source_points, source_values, utm_points, radius=1000., p=2)\n",
    "resistivity = resistivity.reshape(grid_points.shape[:3])\n"
   ]
  },
  {
   "cell_type": "code",
   "execution_count": 8,
   "metadata": {},
   "outputs": [],
   "source": [
    "# write to output NetCDF file\"\n",
    "output_file = \"../netCDF_files/winGlink_IDW_radius.nc\"\n",
    "nc.write_resistivity_grid(output_file, grid_proj, grid_y, grid_x, grid_z, resistivity.transpose([2, 0, 1]))\n",
    "\n"
   ]
  },
  {
   "cell_type": "code",
   "execution_count": null,
   "metadata": {},
   "outputs": [],
   "source": []
  }
 ],
 "metadata": {
  "kernelspec": {
   "display_name": "Python 3",
   "language": "python",
   "name": "python3"
  },
  "language_info": {
   "codemirror_mode": {
    "name": "ipython",
    "version": 3
   },
   "file_extension": ".py",
   "mimetype": "text/x-python",
   "name": "python",
   "nbconvert_exporter": "python",
   "pygments_lexer": "ipython3",
   "version": "3.6.7"
  }
 },
 "nbformat": 4,
 "nbformat_minor": 2
}
